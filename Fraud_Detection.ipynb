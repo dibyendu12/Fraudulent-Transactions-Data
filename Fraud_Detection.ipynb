{
  "cells": [
    {
      "cell_type": "code",
      "execution_count": 1,
      "metadata": {
        "colab": {
          "base_uri": "https://localhost:8080/"
        },
        "id": "g1gVE37X2shs",
        "outputId": "fccb7d5f-4988-4de9-e593-001f2ce75d36"
      },
      "outputs": [
        {
          "output_type": "stream",
          "name": "stdout",
          "text": [
            "Mounted at /content/drive\n"
          ]
        }
      ],
      "source": [
        "from google.colab import drive\n",
        "drive.mount('/content/drive')"
      ]
    },
    {
      "cell_type": "code",
      "execution_count": 2,
      "metadata": {
        "id": "e8TKYzSH3IZZ"
      },
      "outputs": [],
      "source": [
        "import pandas as pd\n",
        "import numpy as np\n",
        "import seaborn as sns"
      ]
    },
    {
      "cell_type": "code",
      "execution_count": 3,
      "metadata": {
        "id": "RnK_QEGC3JKo"
      },
      "outputs": [],
      "source": [
        "data=pd.read_csv(\"/content/drive/MyDrive/Fraud.csv\")"
      ]
    },
    {
      "cell_type": "code",
      "execution_count": 4,
      "metadata": {
        "colab": {
          "base_uri": "https://localhost:8080/",
          "height": 112
        },
        "id": "CeliYnvD3JNQ",
        "outputId": "096532aa-5679-485b-8a4c-fb94200bd72c"
      },
      "outputs": [
        {
          "output_type": "execute_result",
          "data": {
            "text/plain": [
              "   step     type   amount     nameOrig  oldbalanceOrg  newbalanceOrig  \\\n",
              "0     1  PAYMENT  9839.64  C1231006815       170136.0       160296.36   \n",
              "1     1  PAYMENT  1864.28  C1666544295        21249.0        19384.72   \n",
              "\n",
              "      nameDest  oldbalanceDest  newbalanceDest  isFraud  isFlaggedFraud  \n",
              "0  M1979787155             0.0             0.0        0               0  \n",
              "1  M2044282225             0.0             0.0        0               0  "
            ],
            "text/html": [
              "\n",
              "  <div id=\"df-eda9d9da-feb7-410d-903f-54dde507c38e\">\n",
              "    <div class=\"colab-df-container\">\n",
              "      <div>\n",
              "<style scoped>\n",
              "    .dataframe tbody tr th:only-of-type {\n",
              "        vertical-align: middle;\n",
              "    }\n",
              "\n",
              "    .dataframe tbody tr th {\n",
              "        vertical-align: top;\n",
              "    }\n",
              "\n",
              "    .dataframe thead th {\n",
              "        text-align: right;\n",
              "    }\n",
              "</style>\n",
              "<table border=\"1\" class=\"dataframe\">\n",
              "  <thead>\n",
              "    <tr style=\"text-align: right;\">\n",
              "      <th></th>\n",
              "      <th>step</th>\n",
              "      <th>type</th>\n",
              "      <th>amount</th>\n",
              "      <th>nameOrig</th>\n",
              "      <th>oldbalanceOrg</th>\n",
              "      <th>newbalanceOrig</th>\n",
              "      <th>nameDest</th>\n",
              "      <th>oldbalanceDest</th>\n",
              "      <th>newbalanceDest</th>\n",
              "      <th>isFraud</th>\n",
              "      <th>isFlaggedFraud</th>\n",
              "    </tr>\n",
              "  </thead>\n",
              "  <tbody>\n",
              "    <tr>\n",
              "      <th>0</th>\n",
              "      <td>1</td>\n",
              "      <td>PAYMENT</td>\n",
              "      <td>9839.64</td>\n",
              "      <td>C1231006815</td>\n",
              "      <td>170136.0</td>\n",
              "      <td>160296.36</td>\n",
              "      <td>M1979787155</td>\n",
              "      <td>0.0</td>\n",
              "      <td>0.0</td>\n",
              "      <td>0</td>\n",
              "      <td>0</td>\n",
              "    </tr>\n",
              "    <tr>\n",
              "      <th>1</th>\n",
              "      <td>1</td>\n",
              "      <td>PAYMENT</td>\n",
              "      <td>1864.28</td>\n",
              "      <td>C1666544295</td>\n",
              "      <td>21249.0</td>\n",
              "      <td>19384.72</td>\n",
              "      <td>M2044282225</td>\n",
              "      <td>0.0</td>\n",
              "      <td>0.0</td>\n",
              "      <td>0</td>\n",
              "      <td>0</td>\n",
              "    </tr>\n",
              "  </tbody>\n",
              "</table>\n",
              "</div>\n",
              "      <button class=\"colab-df-convert\" onclick=\"convertToInteractive('df-eda9d9da-feb7-410d-903f-54dde507c38e')\"\n",
              "              title=\"Convert this dataframe to an interactive table.\"\n",
              "              style=\"display:none;\">\n",
              "        \n",
              "  <svg xmlns=\"http://www.w3.org/2000/svg\" height=\"24px\"viewBox=\"0 0 24 24\"\n",
              "       width=\"24px\">\n",
              "    <path d=\"M0 0h24v24H0V0z\" fill=\"none\"/>\n",
              "    <path d=\"M18.56 5.44l.94 2.06.94-2.06 2.06-.94-2.06-.94-.94-2.06-.94 2.06-2.06.94zm-11 1L8.5 8.5l.94-2.06 2.06-.94-2.06-.94L8.5 2.5l-.94 2.06-2.06.94zm10 10l.94 2.06.94-2.06 2.06-.94-2.06-.94-.94-2.06-.94 2.06-2.06.94z\"/><path d=\"M17.41 7.96l-1.37-1.37c-.4-.4-.92-.59-1.43-.59-.52 0-1.04.2-1.43.59L10.3 9.45l-7.72 7.72c-.78.78-.78 2.05 0 2.83L4 21.41c.39.39.9.59 1.41.59.51 0 1.02-.2 1.41-.59l7.78-7.78 2.81-2.81c.8-.78.8-2.07 0-2.86zM5.41 20L4 18.59l7.72-7.72 1.47 1.35L5.41 20z\"/>\n",
              "  </svg>\n",
              "      </button>\n",
              "      \n",
              "  <style>\n",
              "    .colab-df-container {\n",
              "      display:flex;\n",
              "      flex-wrap:wrap;\n",
              "      gap: 12px;\n",
              "    }\n",
              "\n",
              "    .colab-df-convert {\n",
              "      background-color: #E8F0FE;\n",
              "      border: none;\n",
              "      border-radius: 50%;\n",
              "      cursor: pointer;\n",
              "      display: none;\n",
              "      fill: #1967D2;\n",
              "      height: 32px;\n",
              "      padding: 0 0 0 0;\n",
              "      width: 32px;\n",
              "    }\n",
              "\n",
              "    .colab-df-convert:hover {\n",
              "      background-color: #E2EBFA;\n",
              "      box-shadow: 0px 1px 2px rgba(60, 64, 67, 0.3), 0px 1px 3px 1px rgba(60, 64, 67, 0.15);\n",
              "      fill: #174EA6;\n",
              "    }\n",
              "\n",
              "    [theme=dark] .colab-df-convert {\n",
              "      background-color: #3B4455;\n",
              "      fill: #D2E3FC;\n",
              "    }\n",
              "\n",
              "    [theme=dark] .colab-df-convert:hover {\n",
              "      background-color: #434B5C;\n",
              "      box-shadow: 0px 1px 3px 1px rgba(0, 0, 0, 0.15);\n",
              "      filter: drop-shadow(0px 1px 2px rgba(0, 0, 0, 0.3));\n",
              "      fill: #FFFFFF;\n",
              "    }\n",
              "  </style>\n",
              "\n",
              "      <script>\n",
              "        const buttonEl =\n",
              "          document.querySelector('#df-eda9d9da-feb7-410d-903f-54dde507c38e button.colab-df-convert');\n",
              "        buttonEl.style.display =\n",
              "          google.colab.kernel.accessAllowed ? 'block' : 'none';\n",
              "\n",
              "        async function convertToInteractive(key) {\n",
              "          const element = document.querySelector('#df-eda9d9da-feb7-410d-903f-54dde507c38e');\n",
              "          const dataTable =\n",
              "            await google.colab.kernel.invokeFunction('convertToInteractive',\n",
              "                                                     [key], {});\n",
              "          if (!dataTable) return;\n",
              "\n",
              "          const docLinkHtml = 'Like what you see? Visit the ' +\n",
              "            '<a target=\"_blank\" href=https://colab.research.google.com/notebooks/data_table.ipynb>data table notebook</a>'\n",
              "            + ' to learn more about interactive tables.';\n",
              "          element.innerHTML = '';\n",
              "          dataTable['output_type'] = 'display_data';\n",
              "          await google.colab.output.renderOutput(dataTable, element);\n",
              "          const docLink = document.createElement('div');\n",
              "          docLink.innerHTML = docLinkHtml;\n",
              "          element.appendChild(docLink);\n",
              "        }\n",
              "      </script>\n",
              "    </div>\n",
              "  </div>\n",
              "  "
            ]
          },
          "metadata": {},
          "execution_count": 4
        }
      ],
      "source": [
        "data.head(2)"
      ]
    },
    {
      "cell_type": "code",
      "execution_count": 5,
      "metadata": {
        "colab": {
          "base_uri": "https://localhost:8080/"
        },
        "id": "dR3E-Kx7UGE8",
        "outputId": "cd44ace0-fb33-47f1-88a8-8432f815ae89"
      },
      "outputs": [
        {
          "output_type": "execute_result",
          "data": {
            "text/plain": [
              "(6362620, 11)"
            ]
          },
          "metadata": {},
          "execution_count": 5
        }
      ],
      "source": [
        "data.shape"
      ]
    },
    {
      "cell_type": "code",
      "execution_count": 6,
      "metadata": {
        "colab": {
          "base_uri": "https://localhost:8080/"
        },
        "id": "NeIleLfB3JPv",
        "outputId": "1d455e44-89cd-4fd3-dbed-4f2ddde2fedc"
      },
      "outputs": [
        {
          "output_type": "execute_result",
          "data": {
            "text/plain": [
              "step              0\n",
              "type              0\n",
              "amount            0\n",
              "nameOrig          0\n",
              "oldbalanceOrg     0\n",
              "newbalanceOrig    0\n",
              "nameDest          0\n",
              "oldbalanceDest    0\n",
              "newbalanceDest    0\n",
              "isFraud           0\n",
              "isFlaggedFraud    0\n",
              "dtype: int64"
            ]
          },
          "metadata": {},
          "execution_count": 6
        }
      ],
      "source": [
        "data.isnull().sum()"
      ]
    },
    {
      "cell_type": "markdown",
      "metadata": {
        "id": "dcGR0D8kTCzy"
      },
      "source": [
        "## **Outliers**"
      ]
    },
    {
      "cell_type": "code",
      "execution_count": 7,
      "metadata": {
        "colab": {
          "base_uri": "https://localhost:8080/",
          "height": 297
        },
        "id": "h53glJkeRL5E",
        "outputId": "4135dd28-f053-4d59-fb7f-1dc71d425de9"
      },
      "outputs": [
        {
          "output_type": "execute_result",
          "data": {
            "text/plain": [
              "<matplotlib.axes._subplots.AxesSubplot at 0x7f9e88909b10>"
            ]
          },
          "metadata": {},
          "execution_count": 7
        },
        {
          "output_type": "display_data",
          "data": {
            "text/plain": [
              "<Figure size 432x288 with 1 Axes>"
            ],
            "image/png": "[encoded data removed]"
          },
          "metadata": {
            "needs_background": "light"
          }
        }
      ],
      "source": [
        "sns.boxplot(x=data[\"amount\"])"
      ]
    },
    {
      "cell_type": "code",
      "execution_count": 8,
      "metadata": {
        "colab": {
          "base_uri": "https://localhost:8080/",
          "height": 363
        },
        "id": "3_l0BDMjTM3p",
        "outputId": "db3b97e3-0a7c-498b-ffcf-dd81df3dfbf6"
      },
      "outputs": [
        {
          "output_type": "stream",
          "name": "stderr",
          "text": [
            "/usr/local/lib/python3.7/dist-packages/seaborn/_decorators.py:43: FutureWarning: Pass the following variable as a keyword arg: x. From version 0.12, the only valid positional argument will be `data`, and passing other arguments without an explicit keyword will result in an error or misinterpretation.\n",
            "  FutureWarning\n"
          ]
        },
        {
          "output_type": "execute_result",
          "data": {
            "text/plain": [
              "<matplotlib.axes._subplots.AxesSubplot at 0x7f9e59e0dcd0>"
            ]
          },
          "metadata": {},
          "execution_count": 8
        },
        {
          "output_type": "display_data",
          "data": {
            "text/plain": [
              "<Figure size 432x288 with 1 Axes>"
            ],
            "image/png": "[encoded data removed]"
          },
          "metadata": {
            "needs_background": "light"
          }
        }
      ],
      "source": [
        "sns.countplot(data['type'])"
      ]
    },
    {
      "cell_type": "code",
      "execution_count": 9,
      "metadata": {
        "colab": {
          "base_uri": "https://localhost:8080/"
        },
        "id": "uMLsYIYlT7zL",
        "outputId": "c676adfc-8606-4f6a-e383-045453f33d2e"
      },
      "outputs": [
        {
          "output_type": "stream",
          "name": "stdout",
          "text": [
            "Total Unique Values in nameOrig 6353307\n"
          ]
        }
      ],
      "source": [
        "print(\"Total Unique Values in nameOrig\", data['nameOrig'].nunique())"
      ]
    },
    {
      "cell_type": "code",
      "execution_count": 10,
      "metadata": {
        "colab": {
          "base_uri": "https://localhost:8080/"
        },
        "id": "lPcMCZ_bT75m",
        "outputId": "4b8cc533-66f2-4a85-c010-9c6be3017fe1"
      },
      "outputs": [
        {
          "output_type": "stream",
          "name": "stdout",
          "text": [
            "Total Unique Values in nameDest 2722362\n"
          ]
        }
      ],
      "source": [
        "print(\"Total Unique Values in nameDest\", data['nameDest'].nunique())"
      ]
    },
    {
      "cell_type": "markdown",
      "metadata": {
        "id": "RXWgKBlIXDXu"
      },
      "source": [
        "## **Observations**:-\n",
        "\n",
        "1.Amount Column has Outliers\n",
        "\n",
        "2.Debit type transaction count is very small\n",
        "\n",
        "3.Total Unique values in nameOrig is 6353307\n",
        "\n",
        "4.Total Unique values in nameDest is 2722362"
      ]
    },
    {
      "cell_type": "markdown",
      "metadata": {
        "id": "1yKNkPsAV9y2"
      },
      "source": [
        "## **Multi-Collinearity Checking**"
      ]
    },
    {
      "cell_type": "code",
      "execution_count": null,
      "metadata": {
        "colab": {
          "base_uri": "https://localhost:8080/"
        },
        "id": "VKIx3yh-3Y9y",
        "outputId": "1615bc84-b5c0-47e3-e511-96e5d41e5631"
      },
      "outputs": [
        {
          "name": "stderr",
          "output_type": "stream",
          "text": [
            "/usr/local/lib/python3.7/dist-packages/statsmodels/tools/_testing.py:19: FutureWarning: pandas.util.testing is deprecated. Use the functions in the public API at pandas.testing instead.\n",
            "  import pandas.util.testing as tm\n"
          ]
        },
        {
          "name": "stdout",
          "output_type": "stream",
          "text": [
            "          feature         VIF\n",
            "0            step    1.191094\n",
            "1          amount    4.078952\n",
            "2   oldbalanceOrg  544.053103\n",
            "3  newbalanceOrig  546.346008\n",
            "4  oldbalanceDest   72.895522\n",
            "5  newbalanceDest   84.584619\n",
            "6         isFraud    1.188386\n",
            "7  isFlaggedFraud    1.002546\n"
          ]
        }
      ],
      "source": [
        "from statsmodels.stats.outliers_influence import variance_inflation_factor\n",
        "\n",
        "data_without_text=pd.DataFrame({\"step\":data.step,\n",
        "                                \"amount\":data.amount,\n",
        "                               \"oldbalanceOrg\":data.oldbalanceOrg,\n",
        "                               \"newbalanceOrig\":data.newbalanceOrig,\n",
        "                               \"oldbalanceDest\":data.oldbalanceDest,\n",
        "                               \"newbalanceDest\":data.newbalanceDest,\n",
        "                               \"isFraud\":data.isFraud,\n",
        "                               \"isFlaggedFraud\":data.isFlaggedFraud})\n",
        "vif_data = pd.DataFrame()\n",
        "vif_data[\"feature\"] = data_without_text.columns\n",
        "  \n",
        "vif_data[\"VIF\"] = [variance_inflation_factor(data_without_text.values, i)\n",
        "                          for i in range(len(data_without_text.columns))]\n",
        "  \n",
        "print(vif_data)"
      ]
    },
    {
      "cell_type": "markdown",
      "metadata": {
        "id": "HuPugBhh3cbv"
      },
      "source": [
        "## **Observations**\n",
        "\n",
        "**Issue**:\n",
        "\n",
        " 1.Here oldbalanceorg and newbalanceorig has high vif so these are creating multi-collinearity\n",
        "\n",
        " 2.oldbalanceDest and newbalanceDest also has multi-collinearity.\n",
        "\n",
        "\n",
        "**Prevention**:\n",
        "\n",
        "1.we will remove oldbalnceorg and newbalaceorig and and add the difference of  column in the data set.\n",
        "\n",
        "2.do the same thing for this also"
      ]
    },
    {
      "cell_type": "code",
      "execution_count": 11,
      "metadata": {
        "id": "q_3szSRM3ZAP"
      },
      "outputs": [],
      "source": [
        "from tqdm import tqdm"
      ]
    },
    {
      "cell_type": "code",
      "execution_count": 12,
      "metadata": {
        "colab": {
          "base_uri": "https://localhost:8080/"
        },
        "id": "NStMh1Ob3ZCx",
        "outputId": "cac6a28f-f667-45a1-b40d-7b166cfbfddc"
      },
      "outputs": [
        {
          "output_type": "stream",
          "name": "stderr",
          "text": [
            "100%|██████████| 6362620/6362620 [00:39<00:00, 160085.18it/s]\n"
          ]
        }
      ],
      "source": [
        "old_balance=data[\"oldbalanceOrg\"]\n",
        "new_balance=data[\"newbalanceOrig\"]\n",
        "bal_change=[] #if balace deduct then 1 else 0\n",
        "for i in tqdm(range(len(old_balance))):\n",
        "  diff=new_balance[i]-old_balance[i]\n",
        "  if diff>0:\n",
        "      bal_change.append(0)\n",
        "  else:\n",
        "      bal_change.append(1)\n",
        "  "
      ]
    },
    {
      "cell_type": "code",
      "execution_count": 13,
      "metadata": {
        "colab": {
          "base_uri": "https://localhost:8080/"
        },
        "id": "ffLIj-yK3ZFH",
        "outputId": "47fb1a84-d8c7-4706-808d-dc6268d0f618"
      },
      "outputs": [
        {
          "output_type": "stream",
          "name": "stderr",
          "text": [
            "100%|██████████| 6362620/6362620 [00:42<00:00, 150361.78it/s]\n"
          ]
        }
      ],
      "source": [
        "dest_old=data[\"oldbalanceDest\"]\n",
        "dest_new=data[\"newbalanceDest\"]\n",
        "dest_bal_change=[]\n",
        "dest_bal=[]\n",
        "for i in tqdm(range(len(dest_old))):\n",
        "    diff=dest_new[i]-dest_old[i]\n",
        "    if diff>0:\n",
        "        dest_bal_change.append(0)\n",
        "        dest_bal.append(abs(diff))\n",
        "    else:\n",
        "        dest_bal_change.append(1)\n",
        "        dest_bal.append(abs(diff))"
      ]
    },
    {
      "cell_type": "code",
      "execution_count": 14,
      "metadata": {
        "id": "BI6Zj4Xu54gp"
      },
      "outputs": [],
      "source": [
        "data[\"source_bal_change\"]=bal_change\n",
        "data[\"destination\"]=dest_bal\n",
        "data[\"dest_bal_chnage\"]=dest_bal_change"
      ]
    },
    {
      "cell_type": "code",
      "execution_count": 15,
      "metadata": {
        "id": "MU_woNRE7ukP"
      },
      "outputs": [],
      "source": [
        "data.drop([\"oldbalanceOrg\",\"newbalanceOrig\",\"oldbalanceDest\",\"newbalanceDest\"],axis=1,inplace=True)"
      ]
    },
    {
      "cell_type": "code",
      "execution_count": 16,
      "metadata": {
        "colab": {
          "base_uri": "https://localhost:8080/",
          "height": 112
        },
        "id": "Q_MDoSqt8Mg6",
        "outputId": "d74419ab-c622-48ba-acff-81d42e1cf2c5"
      },
      "outputs": [
        {
          "output_type": "execute_result",
          "data": {
            "text/plain": [
              "   step     type   amount     nameOrig     nameDest  isFraud  isFlaggedFraud  \\\n",
              "0     1  PAYMENT  9839.64  C1231006815  M1979787155        0               0   \n",
              "1     1  PAYMENT  1864.28  C1666544295  M2044282225        0               0   \n",
              "\n",
              "   source_bal_change  destination  dest_bal_chnage  \n",
              "0                  1          0.0                1  \n",
              "1                  1          0.0                1  "
            ],
            "text/html": [
              "\n",
              "  <div id=\"df-eabdc224-a1a2-44ee-9b76-fc228271c0f3\">\n",
              "    <div class=\"colab-df-container\">\n",
              "      <div>\n",
              "<style scoped>\n",
              "    .dataframe tbody tr th:only-of-type {\n",
              "        vertical-align: middle;\n",
              "    }\n",
              "\n",
              "    .dataframe tbody tr th {\n",
              "        vertical-align: top;\n",
              "    }\n",
              "\n",
              "    .dataframe thead th {\n",
              "        text-align: right;\n",
              "    }\n",
              "</style>\n",
              "<table border=\"1\" class=\"dataframe\">\n",
              "  <thead>\n",
              "    <tr style=\"text-align: right;\">\n",
              "      <th></th>\n",
              "      <th>step</th>\n",
              "      <th>type</th>\n",
              "      <th>amount</th>\n",
              "      <th>nameOrig</th>\n",
              "      <th>nameDest</th>\n",
              "      <th>isFraud</th>\n",
              "      <th>isFlaggedFraud</th>\n",
              "      <th>source_bal_change</th>\n",
              "      <th>destination</th>\n",
              "      <th>dest_bal_chnage</th>\n",
              "    </tr>\n",
              "  </thead>\n",
              "  <tbody>\n",
              "    <tr>\n",
              "      <th>0</th>\n",
              "      <td>1</td>\n",
              "      <td>PAYMENT</td>\n",
              "      <td>9839.64</td>\n",
              "      <td>C1231006815</td>\n",
              "      <td>M1979787155</td>\n",
              "      <td>0</td>\n",
              "      <td>0</td>\n",
              "      <td>1</td>\n",
              "      <td>0.0</td>\n",
              "      <td>1</td>\n",
              "    </tr>\n",
              "    <tr>\n",
              "      <th>1</th>\n",
              "      <td>1</td>\n",
              "      <td>PAYMENT</td>\n",
              "      <td>1864.28</td>\n",
              "      <td>C1666544295</td>\n",
              "      <td>M2044282225</td>\n",
              "      <td>0</td>\n",
              "      <td>0</td>\n",
              "      <td>1</td>\n",
              "      <td>0.0</td>\n",
              "      <td>1</td>\n",
              "    </tr>\n",
              "  </tbody>\n",
              "</table>\n",
              "</div>\n",
              "      <button class=\"colab-df-convert\" onclick=\"convertToInteractive('df-eabdc224-a1a2-44ee-9b76-fc228271c0f3')\"\n",
              "              title=\"Convert this dataframe to an interactive table.\"\n",
              "              style=\"display:none;\">\n",
              "        \n",
              "  <svg xmlns=\"http://www.w3.org/2000/svg\" height=\"24px\"viewBox=\"0 0 24 24\"\n",
              "       width=\"24px\">\n",
              "    <path d=\"M0 0h24v24H0V0z\" fill=\"none\"/>\n",
              "    <path d=\"M18.56 5.44l.94 2.06.94-2.06 2.06-.94-2.06-.94-.94-2.06-.94 2.06-2.06.94zm-11 1L8.5 8.5l.94-2.06 2.06-.94-2.06-.94L8.5 2.5l-.94 2.06-2.06.94zm10 10l.94 2.06.94-2.06 2.06-.94-2.06-.94-.94-2.06-.94 2.06-2.06.94z\"/><path d=\"M17.41 7.96l-1.37-1.37c-.4-.4-.92-.59-1.43-.59-.52 0-1.04.2-1.43.59L10.3 9.45l-7.72 7.72c-.78.78-.78 2.05 0 2.83L4 21.41c.39.39.9.59 1.41.59.51 0 1.02-.2 1.41-.59l7.78-7.78 2.81-2.81c.8-.78.8-2.07 0-2.86zM5.41 20L4 18.59l7.72-7.72 1.47 1.35L5.41 20z\"/>\n",
              "  </svg>\n",
              "      </button>\n",
              "      \n",
              "  <style>\n",
              "    .colab-df-container {\n",
              "      display:flex;\n",
              "      flex-wrap:wrap;\n",
              "      gap: 12px;\n",
              "    }\n",
              "\n",
              "    .colab-df-convert {\n",
              "      background-color: #E8F0FE;\n",
              "      border: none;\n",
              "      border-radius: 50%;\n",
              "      cursor: pointer;\n",
              "      display: none;\n",
              "      fill: #1967D2;\n",
              "      height: 32px;\n",
              "      padding: 0 0 0 0;\n",
              "      width: 32px;\n",
              "    }\n",
              "\n",
              "    .colab-df-convert:hover {\n",
              "      background-color: #E2EBFA;\n",
              "      box-shadow: 0px 1px 2px rgba(60, 64, 67, 0.3), 0px 1px 3px 1px rgba(60, 64, 67, 0.15);\n",
              "      fill: #174EA6;\n",
              "    }\n",
              "\n",
              "    [theme=dark] .colab-df-convert {\n",
              "      background-color: #3B4455;\n",
              "      fill: #D2E3FC;\n",
              "    }\n",
              "\n",
              "    [theme=dark] .colab-df-convert:hover {\n",
              "      background-color: #434B5C;\n",
              "      box-shadow: 0px 1px 3px 1px rgba(0, 0, 0, 0.15);\n",
              "      filter: drop-shadow(0px 1px 2px rgba(0, 0, 0, 0.3));\n",
              "      fill: #FFFFFF;\n",
              "    }\n",
              "  </style>\n",
              "\n",
              "      <script>\n",
              "        const buttonEl =\n",
              "          document.querySelector('#df-eabdc224-a1a2-44ee-9b76-fc228271c0f3 button.colab-df-convert');\n",
              "        buttonEl.style.display =\n",
              "          google.colab.kernel.accessAllowed ? 'block' : 'none';\n",
              "\n",
              "        async function convertToInteractive(key) {\n",
              "          const element = document.querySelector('#df-eabdc224-a1a2-44ee-9b76-fc228271c0f3');\n",
              "          const dataTable =\n",
              "            await google.colab.kernel.invokeFunction('convertToInteractive',\n",
              "                                                     [key], {});\n",
              "          if (!dataTable) return;\n",
              "\n",
              "          const docLinkHtml = 'Like what you see? Visit the ' +\n",
              "            '<a target=\"_blank\" href=https://colab.research.google.com/notebooks/data_table.ipynb>data table notebook</a>'\n",
              "            + ' to learn more about interactive tables.';\n",
              "          element.innerHTML = '';\n",
              "          dataTable['output_type'] = 'display_data';\n",
              "          await google.colab.output.renderOutput(dataTable, element);\n",
              "          const docLink = document.createElement('div');\n",
              "          docLink.innerHTML = docLinkHtml;\n",
              "          element.appendChild(docLink);\n",
              "        }\n",
              "      </script>\n",
              "    </div>\n",
              "  </div>\n",
              "  "
            ]
          },
          "metadata": {},
          "execution_count": 16
        }
      ],
      "source": [
        "data.head(2)"
      ]
    },
    {
      "cell_type": "markdown",
      "metadata": {
        "id": "Fc4iDN-S8TJ8"
      },
      "source": [
        "## **Checking Colinearity on Data after Featurization** "
      ]
    },
    {
      "cell_type": "code",
      "execution_count": null,
      "metadata": {
        "colab": {
          "base_uri": "https://localhost:8080/"
        },
        "id": "kTLa6gGt3xwy",
        "outputId": "a1c60fad-8ab0-4fea-ddf5-1611b94ebabc"
      },
      "outputs": [
        {
          "name": "stdout",
          "output_type": "stream",
          "text": [
            "               feature       VIF\n",
            "0                 step  3.183617\n",
            "1               amount  4.740347\n",
            "2           bal_change  2.588790\n",
            "3              bal_dif  1.540877\n",
            "4      dest_bal_change  1.902094\n",
            "5  dest_bal_difference  4.390640\n",
            "6              isFraud  1.173016\n",
            "7       isFlaggedFraud  1.003006\n"
          ]
        }
      ],
      "source": [
        "data_without_text=pd.DataFrame({\"step\":data.step,\n",
        "                                \"amount\":data.amount,\n",
        "                                \"bal_change\":bal_change,\n",
        "                              \n",
        "                               \"bal_dif\":bal,\n",
        "                                \"dest_bal_change\":dest_bal_change,\n",
        "                               \"dest_bal_difference\":dest_bal,\n",
        "                                \n",
        "                               \"isFraud\":data.isFraud,\n",
        "                               \"isFlaggedFraud\":data.isFlaggedFraud})\n",
        "vif_data = pd.DataFrame()\n",
        "vif_data[\"feature\"] = data_without_text.columns\n",
        "  \n",
        "vif_data[\"VIF\"] = [variance_inflation_factor(data_without_text.values, i)\n",
        "                          for i in range(len(data_without_text.columns))]\n",
        "  \n",
        "print(vif_data)"
      ]
    },
    {
      "cell_type": "code",
      "execution_count": 17,
      "metadata": {
        "id": "HrryukBU90RO"
      },
      "outputs": [],
      "source": [
        "result=data[\"isFraud\"]\n",
        "data.drop(\"isFraud\",axis=1,inplace=True)"
      ]
    },
    {
      "cell_type": "code",
      "source": [
        "True_fraud=np.sum(result==1)\n",
        "False_fraud=np.sum(result==0)\n",
        "print(True_fraud)\n",
        "print(False_fraud)"
      ],
      "metadata": {
        "colab": {
          "base_uri": "https://localhost:8080/"
        },
        "id": "OMaJi5noVZ96",
        "outputId": "3eb9a0a5-045f-4bb2-d4be-7a1d32fad04c"
      },
      "execution_count": 57,
      "outputs": [
        {
          "output_type": "stream",
          "name": "stdout",
          "text": [
            "8213\n",
            "6354407\n"
          ]
        }
      ]
    },
    {
      "cell_type": "markdown",
      "source": [
        "## **Observation**\n",
        "1.we can clealy see that here the data is imbalaced\n",
        "\n",
        "2.We will do downsampling on the data basically here the size of True_fraud and False_fraud will be same\n",
        "\n",
        "3.But Firsly we will check with imabalance Data"
      ],
      "metadata": {
        "id": "smV2Bga8WzBc"
      }
    },
    {
      "cell_type": "markdown",
      "source": [
        "## **Working With Imbalanced Data**"
      ],
      "metadata": {
        "id": "Ld9EM9zXXUtj"
      }
    },
    {
      "cell_type": "code",
      "execution_count": 18,
      "metadata": {
        "id": "9s7gG4Mf9tNg"
      },
      "outputs": [],
      "source": [
        "from sklearn.model_selection import train_test_split\n",
        "x_train,x_test,y_train,y_test=train_test_split(data,result,test_size=0.20,random_state=42)"
      ]
    },
    {
      "cell_type": "code",
      "execution_count": 19,
      "metadata": {
        "colab": {
          "base_uri": "https://localhost:8080/"
        },
        "id": "rEvyCCkAAMa4",
        "outputId": "000c3adf-07d1-4486-f6b2-e79cf03aadc2"
      },
      "outputs": [
        {
          "output_type": "stream",
          "name": "stdout",
          "text": [
            "(5090096, 9)\n",
            "(1272524, 9)\n",
            "(5090096,)\n",
            "(1272524,)\n"
          ]
        }
      ],
      "source": [
        "print(x_train.shape)\n",
        "print(x_test.shape)\n",
        "print(y_train.shape)\n",
        "print(y_test.shape)"
      ]
    },
    {
      "cell_type": "markdown",
      "metadata": {
        "id": "HklPFJMg9aHB"
      },
      "source": [
        "## **Categorical Data**"
      ]
    },
    {
      "cell_type": "code",
      "execution_count": 20,
      "metadata": {
        "id": "VFGLHuiR9nIQ"
      },
      "outputs": [],
      "source": [
        "from sklearn import preprocessing   #LabelEncoder\n",
        "le = preprocessing.LabelEncoder()\n",
        "le.fit(data[\"type\"])\n",
        "train_type=le.transform(x_train[\"type\"])\n",
        "test_type=le.transform(x_test[\"type\"])\n"
      ]
    },
    {
      "cell_type": "code",
      "execution_count": 21,
      "metadata": {
        "id": "2EL-7iXjUsON"
      },
      "outputs": [],
      "source": [
        "le2=preprocessing.LabelEncoder()\n",
        "le2.fit(data[\"nameOrig\"])\n",
        "train_nameOrig=le2.transform(x_train[\"nameOrig\"])\n",
        "test_nameOrig=le2.transform(x_test[\"nameOrig\"])"
      ]
    },
    {
      "cell_type": "code",
      "execution_count": 22,
      "metadata": {
        "id": "n-aeX_MZUsVd"
      },
      "outputs": [],
      "source": [
        "le3=preprocessing.LabelEncoder()\n",
        "le3.fit(data[\"nameDest\"])\n",
        "train_nameDest=le3.transform(x_train[\"nameDest\"])\n",
        "test_nameDest=le3.transform(x_test[\"nameDest\"])"
      ]
    },
    {
      "cell_type": "code",
      "execution_count": 23,
      "metadata": {
        "id": "1Jo1NovEFLq8"
      },
      "outputs": [],
      "source": [
        "x_train.drop([\"type\",\"nameOrig\",\"nameDest\"],axis=1,inplace=True)"
      ]
    },
    {
      "cell_type": "code",
      "execution_count": 24,
      "metadata": {
        "id": "-VMagT9rEZ-X"
      },
      "outputs": [],
      "source": [
        "x_train[\"type\"]=train_type\n",
        "x_train[\"nameOrig\"]=train_nameOrig\n",
        "x_train[\"nameDest\"]=train_nameDest"
      ]
    },
    {
      "cell_type": "code",
      "execution_count": 25,
      "metadata": {
        "colab": {
          "base_uri": "https://localhost:8080/",
          "height": 112
        },
        "id": "gf1CblbjEaBI",
        "outputId": "9169830a-6baa-4c78-f8f6-ba179b52f79b"
      },
      "outputs": [
        {
          "output_type": "execute_result",
          "data": {
            "text/plain": [
              "         step     amount  isFlaggedFraud  source_bal_change  destination  \\\n",
              "6271196   619  386385.08               0                  0    386385.08   \n",
              "1888243   164  212458.78               0                  0    212458.78   \n",
              "\n",
              "         dest_bal_chnage  type  nameOrig  nameDest  \n",
              "6271196                1     0   4449199    289167  \n",
              "1888243                1     0   5813773    204382  "
            ],
            "text/html": [
              "\n",
              "  <div id=\"df-3aa1fe30-e424-4ce6-91f6-2781a7167cfa\">\n",
              "    <div class=\"colab-df-container\">\n",
              "      <div>\n",
              "<style scoped>\n",
              "    .dataframe tbody tr th:only-of-type {\n",
              "        vertical-align: middle;\n",
              "    }\n",
              "\n",
              "    .dataframe tbody tr th {\n",
              "        vertical-align: top;\n",
              "    }\n",
              "\n",
              "    .dataframe thead th {\n",
              "        text-align: right;\n",
              "    }\n",
              "</style>\n",
              "<table border=\"1\" class=\"dataframe\">\n",
              "  <thead>\n",
              "    <tr style=\"text-align: right;\">\n",
              "      <th></th>\n",
              "      <th>step</th>\n",
              "      <th>amount</th>\n",
              "      <th>isFlaggedFraud</th>\n",
              "      <th>source_bal_change</th>\n",
              "      <th>destination</th>\n",
              "      <th>dest_bal_chnage</th>\n",
              "      <th>type</th>\n",
              "      <th>nameOrig</th>\n",
              "      <th>nameDest</th>\n",
              "    </tr>\n",
              "  </thead>\n",
              "  <tbody>\n",
              "    <tr>\n",
              "      <th>6271196</th>\n",
              "      <td>619</td>\n",
              "      <td>386385.08</td>\n",
              "      <td>0</td>\n",
              "      <td>0</td>\n",
              "      <td>386385.08</td>\n",
              "      <td>1</td>\n",
              "      <td>0</td>\n",
              "      <td>4449199</td>\n",
              "      <td>289167</td>\n",
              "    </tr>\n",
              "    <tr>\n",
              "      <th>1888243</th>\n",
              "      <td>164</td>\n",
              "      <td>212458.78</td>\n",
              "      <td>0</td>\n",
              "      <td>0</td>\n",
              "      <td>212458.78</td>\n",
              "      <td>1</td>\n",
              "      <td>0</td>\n",
              "      <td>5813773</td>\n",
              "      <td>204382</td>\n",
              "    </tr>\n",
              "  </tbody>\n",
              "</table>\n",
              "</div>\n",
              "      <button class=\"colab-df-convert\" onclick=\"convertToInteractive('df-3aa1fe30-e424-4ce6-91f6-2781a7167cfa')\"\n",
              "              title=\"Convert this dataframe to an interactive table.\"\n",
              "              style=\"display:none;\">\n",
              "        \n",
              "  <svg xmlns=\"http://www.w3.org/2000/svg\" height=\"24px\"viewBox=\"0 0 24 24\"\n",
              "       width=\"24px\">\n",
              "    <path d=\"M0 0h24v24H0V0z\" fill=\"none\"/>\n",
              "    <path d=\"M18.56 5.44l.94 2.06.94-2.06 2.06-.94-2.06-.94-.94-2.06-.94 2.06-2.06.94zm-11 1L8.5 8.5l.94-2.06 2.06-.94-2.06-.94L8.5 2.5l-.94 2.06-2.06.94zm10 10l.94 2.06.94-2.06 2.06-.94-2.06-.94-.94-2.06-.94 2.06-2.06.94z\"/><path d=\"M17.41 7.96l-1.37-1.37c-.4-.4-.92-.59-1.43-.59-.52 0-1.04.2-1.43.59L10.3 9.45l-7.72 7.72c-.78.78-.78 2.05 0 2.83L4 21.41c.39.39.9.59 1.41.59.51 0 1.02-.2 1.41-.59l7.78-7.78 2.81-2.81c.8-.78.8-2.07 0-2.86zM5.41 20L4 18.59l7.72-7.72 1.47 1.35L5.41 20z\"/>\n",
              "  </svg>\n",
              "      </button>\n",
              "      \n",
              "  <style>\n",
              "    .colab-df-container {\n",
              "      display:flex;\n",
              "      flex-wrap:wrap;\n",
              "      gap: 12px;\n",
              "    }\n",
              "\n",
              "    .colab-df-convert {\n",
              "      background-color: #E8F0FE;\n",
              "      border: none;\n",
              "      border-radius: 50%;\n",
              "      cursor: pointer;\n",
              "      display: none;\n",
              "      fill: #1967D2;\n",
              "      height: 32px;\n",
              "      padding: 0 0 0 0;\n",
              "      width: 32px;\n",
              "    }\n",
              "\n",
              "    .colab-df-convert:hover {\n",
              "      background-color: #E2EBFA;\n",
              "      box-shadow: 0px 1px 2px rgba(60, 64, 67, 0.3), 0px 1px 3px 1px rgba(60, 64, 67, 0.15);\n",
              "      fill: #174EA6;\n",
              "    }\n",
              "\n",
              "    [theme=dark] .colab-df-convert {\n",
              "      background-color: #3B4455;\n",
              "      fill: #D2E3FC;\n",
              "    }\n",
              "\n",
              "    [theme=dark] .colab-df-convert:hover {\n",
              "      background-color: #434B5C;\n",
              "      box-shadow: 0px 1px 3px 1px rgba(0, 0, 0, 0.15);\n",
              "      filter: drop-shadow(0px 1px 2px rgba(0, 0, 0, 0.3));\n",
              "      fill: #FFFFFF;\n",
              "    }\n",
              "  </style>\n",
              "\n",
              "      <script>\n",
              "        const buttonEl =\n",
              "          document.querySelector('#df-3aa1fe30-e424-4ce6-91f6-2781a7167cfa button.colab-df-convert');\n",
              "        buttonEl.style.display =\n",
              "          google.colab.kernel.accessAllowed ? 'block' : 'none';\n",
              "\n",
              "        async function convertToInteractive(key) {\n",
              "          const element = document.querySelector('#df-3aa1fe30-e424-4ce6-91f6-2781a7167cfa');\n",
              "          const dataTable =\n",
              "            await google.colab.kernel.invokeFunction('convertToInteractive',\n",
              "                                                     [key], {});\n",
              "          if (!dataTable) return;\n",
              "\n",
              "          const docLinkHtml = 'Like what you see? Visit the ' +\n",
              "            '<a target=\"_blank\" href=https://colab.research.google.com/notebooks/data_table.ipynb>data table notebook</a>'\n",
              "            + ' to learn more about interactive tables.';\n",
              "          element.innerHTML = '';\n",
              "          dataTable['output_type'] = 'display_data';\n",
              "          await google.colab.output.renderOutput(dataTable, element);\n",
              "          const docLink = document.createElement('div');\n",
              "          docLink.innerHTML = docLinkHtml;\n",
              "          element.appendChild(docLink);\n",
              "        }\n",
              "      </script>\n",
              "    </div>\n",
              "  </div>\n",
              "  "
            ]
          },
          "metadata": {},
          "execution_count": 25
        }
      ],
      "source": [
        "x_train.head(2)"
      ]
    },
    {
      "cell_type": "code",
      "execution_count": 26,
      "metadata": {
        "id": "c7CNNMvYW6Rq"
      },
      "outputs": [],
      "source": [
        "x_test.drop([\"type\",\"nameOrig\",\"nameDest\"],axis=1,inplace=True)"
      ]
    },
    {
      "cell_type": "code",
      "execution_count": 27,
      "metadata": {
        "id": "wREa-r5jW_sc"
      },
      "outputs": [],
      "source": [
        "x_test[\"type\"]=test_type\n",
        "x_test[\"nameOrig\"]=test_nameOrig\n",
        "x_test[\"nameDest\"]=test_nameDest"
      ]
    },
    {
      "cell_type": "code",
      "execution_count": 28,
      "metadata": {
        "colab": {
          "base_uri": "https://localhost:8080/",
          "height": 112
        },
        "id": "Xb5shHxlW6VL",
        "outputId": "4199410f-e206-4159-ff62-138594a27c2e"
      },
      "outputs": [
        {
          "output_type": "execute_result",
          "data": {
            "text/plain": [
              "         step     amount  isFlaggedFraud  source_bal_change  destination  \\\n",
              "3737323   278  330218.42               0                  0    330218.42   \n",
              "264914     15   11647.08               0                  1         0.00   \n",
              "\n",
              "         dest_bal_chnage  type  nameOrig  nameDest  \n",
              "3737323                1     0   5144186    523341  \n",
              "264914                 1     3    868156   1849210  "
            ],
            "text/html": [
              "\n",
              "  <div id=\"df-af7c8fc0-6379-4389-b297-93cb5efe0e67\">\n",
              "    <div class=\"colab-df-container\">\n",
              "      <div>\n",
              "<style scoped>\n",
              "    .dataframe tbody tr th:only-of-type {\n",
              "        vertical-align: middle;\n",
              "    }\n",
              "\n",
              "    .dataframe tbody tr th {\n",
              "        vertical-align: top;\n",
              "    }\n",
              "\n",
              "    .dataframe thead th {\n",
              "        text-align: right;\n",
              "    }\n",
              "</style>\n",
              "<table border=\"1\" class=\"dataframe\">\n",
              "  <thead>\n",
              "    <tr style=\"text-align: right;\">\n",
              "      <th></th>\n",
              "      <th>step</th>\n",
              "      <th>amount</th>\n",
              "      <th>isFlaggedFraud</th>\n",
              "      <th>source_bal_change</th>\n",
              "      <th>destination</th>\n",
              "      <th>dest_bal_chnage</th>\n",
              "      <th>type</th>\n",
              "      <th>nameOrig</th>\n",
              "      <th>nameDest</th>\n",
              "    </tr>\n",
              "  </thead>\n",
              "  <tbody>\n",
              "    <tr>\n",
              "      <th>3737323</th>\n",
              "      <td>278</td>\n",
              "      <td>330218.42</td>\n",
              "      <td>0</td>\n",
              "      <td>0</td>\n",
              "      <td>330218.42</td>\n",
              "      <td>1</td>\n",
              "      <td>0</td>\n",
              "      <td>5144186</td>\n",
              "      <td>523341</td>\n",
              "    </tr>\n",
              "    <tr>\n",
              "      <th>264914</th>\n",
              "      <td>15</td>\n",
              "      <td>11647.08</td>\n",
              "      <td>0</td>\n",
              "      <td>1</td>\n",
              "      <td>0.00</td>\n",
              "      <td>1</td>\n",
              "      <td>3</td>\n",
              "      <td>868156</td>\n",
              "      <td>1849210</td>\n",
              "    </tr>\n",
              "  </tbody>\n",
              "</table>\n",
              "</div>\n",
              "      <button class=\"colab-df-convert\" onclick=\"convertToInteractive('df-af7c8fc0-6379-4389-b297-93cb5efe0e67')\"\n",
              "              title=\"Convert this dataframe to an interactive table.\"\n",
              "              style=\"display:none;\">\n",
              "        \n",
              "  <svg xmlns=\"http://www.w3.org/2000/svg\" height=\"24px\"viewBox=\"0 0 24 24\"\n",
              "       width=\"24px\">\n",
              "    <path d=\"M0 0h24v24H0V0z\" fill=\"none\"/>\n",
              "    <path d=\"M18.56 5.44l.94 2.06.94-2.06 2.06-.94-2.06-.94-.94-2.06-.94 2.06-2.06.94zm-11 1L8.5 8.5l.94-2.06 2.06-.94-2.06-.94L8.5 2.5l-.94 2.06-2.06.94zm10 10l.94 2.06.94-2.06 2.06-.94-2.06-.94-.94-2.06-.94 2.06-2.06.94z\"/><path d=\"M17.41 7.96l-1.37-1.37c-.4-.4-.92-.59-1.43-.59-.52 0-1.04.2-1.43.59L10.3 9.45l-7.72 7.72c-.78.78-.78 2.05 0 2.83L4 21.41c.39.39.9.59 1.41.59.51 0 1.02-.2 1.41-.59l7.78-7.78 2.81-2.81c.8-.78.8-2.07 0-2.86zM5.41 20L4 18.59l7.72-7.72 1.47 1.35L5.41 20z\"/>\n",
              "  </svg>\n",
              "      </button>\n",
              "      \n",
              "  <style>\n",
              "    .colab-df-container {\n",
              "      display:flex;\n",
              "      flex-wrap:wrap;\n",
              "      gap: 12px;\n",
              "    }\n",
              "\n",
              "    .colab-df-convert {\n",
              "      background-color: #E8F0FE;\n",
              "      border: none;\n",
              "      border-radius: 50%;\n",
              "      cursor: pointer;\n",
              "      display: none;\n",
              "      fill: #1967D2;\n",
              "      height: 32px;\n",
              "      padding: 0 0 0 0;\n",
              "      width: 32px;\n",
              "    }\n",
              "\n",
              "    .colab-df-convert:hover {\n",
              "      background-color: #E2EBFA;\n",
              "      box-shadow: 0px 1px 2px rgba(60, 64, 67, 0.3), 0px 1px 3px 1px rgba(60, 64, 67, 0.15);\n",
              "      fill: #174EA6;\n",
              "    }\n",
              "\n",
              "    [theme=dark] .colab-df-convert {\n",
              "      background-color: #3B4455;\n",
              "      fill: #D2E3FC;\n",
              "    }\n",
              "\n",
              "    [theme=dark] .colab-df-convert:hover {\n",
              "      background-color: #434B5C;\n",
              "      box-shadow: 0px 1px 3px 1px rgba(0, 0, 0, 0.15);\n",
              "      filter: drop-shadow(0px 1px 2px rgba(0, 0, 0, 0.3));\n",
              "      fill: #FFFFFF;\n",
              "    }\n",
              "  </style>\n",
              "\n",
              "      <script>\n",
              "        const buttonEl =\n",
              "          document.querySelector('#df-af7c8fc0-6379-4389-b297-93cb5efe0e67 button.colab-df-convert');\n",
              "        buttonEl.style.display =\n",
              "          google.colab.kernel.accessAllowed ? 'block' : 'none';\n",
              "\n",
              "        async function convertToInteractive(key) {\n",
              "          const element = document.querySelector('#df-af7c8fc0-6379-4389-b297-93cb5efe0e67');\n",
              "          const dataTable =\n",
              "            await google.colab.kernel.invokeFunction('convertToInteractive',\n",
              "                                                     [key], {});\n",
              "          if (!dataTable) return;\n",
              "\n",
              "          const docLinkHtml = 'Like what you see? Visit the ' +\n",
              "            '<a target=\"_blank\" href=https://colab.research.google.com/notebooks/data_table.ipynb>data table notebook</a>'\n",
              "            + ' to learn more about interactive tables.';\n",
              "          element.innerHTML = '';\n",
              "          dataTable['output_type'] = 'display_data';\n",
              "          await google.colab.output.renderOutput(dataTable, element);\n",
              "          const docLink = document.createElement('div');\n",
              "          docLink.innerHTML = docLinkHtml;\n",
              "          element.appendChild(docLink);\n",
              "        }\n",
              "      </script>\n",
              "    </div>\n",
              "  </div>\n",
              "  "
            ]
          },
          "metadata": {},
          "execution_count": 28
        }
      ],
      "source": [
        "x_test.head(2)"
      ]
    },
    {
      "cell_type": "markdown",
      "source": [
        " ## Here i am going to use Xgboost for train the model \n",
        "Beacuse:\n",
        "\n",
        "  1.Feature scaling is not important in xgboost as here amount can be in any currency\n",
        "\n",
        "  2.in above we see that amount Data has very much outliers and xgboost is not influenced by outliers \n",
        "\n"
      ],
      "metadata": {
        "id": "4mTD_JcKc4MD"
      }
    },
    {
      "cell_type": "markdown",
      "metadata": {
        "id": "E4Z4xMVjX1JB"
      },
      "source": [
        "### **HyperParameter Tuning on xgboost**"
      ]
    },
    {
      "cell_type": "code",
      "execution_count": 29,
      "metadata": {
        "id": "S7KM5zhqwi3d"
      },
      "outputs": [],
      "source": [
        "import xgboost as xgb\n",
        "xgb_model  = xgb.XGBClassifier()"
      ]
    },
    {
      "cell_type": "code",
      "execution_count": null,
      "metadata": {
        "colab": {
          "base_uri": "https://localhost:8080/"
        },
        "id": "_gfWfa6uW6YJ",
        "outputId": "5eae2d4a-caa6-45ba-a140-87c5278439e8"
      },
      "outputs": [
        {
          "name": "stdout",
          "output_type": "stream",
          "text": [
            "[18:29:26] WARNING: /workspace/src/learner.cc:686: Tree method is automatically selected to be 'approx' for faster speed. To use old behavior (exact greedy algorithm on single machine), set tree_method to 'exact'.\n"
          ]
        },
        {
          "data": {
            "text/plain": [
              "GridSearchCV(cv=3, estimator=XGBClassifier(), n_jobs=-1,\n",
              "             param_grid={'max_depth': [1, 2, 3, 4]}, return_train_score=True,\n",
              "             scoring='roc_auc')"
            ]
          },
          "execution_count": 157,
          "metadata": {},
          "output_type": "execute_result"
        }
      ],
      "source": [
        "from sklearn.model_selection import GridSearchCV\n",
        "parameters = {\"max_depth\":[1,2,3,4] }\n",
        "clf = GridSearchCV(xgb.XGBClassifier(), parameters, cv=3, scoring='roc_auc',return_train_score=True,n_jobs=-1)\n",
        "clf.fit(x_train,y_train)\n"
      ]
    },
    {
      "cell_type": "code",
      "execution_count": null,
      "metadata": {
        "colab": {
          "base_uri": "https://localhost:8080/",
          "height": 299
        },
        "id": "nknUI9X9bzxl",
        "outputId": "91d11706-801a-42e7-cf51-368abb787aa4"
      },
      "outputs": [
        {
          "name": "stdout",
          "output_type": "stream",
          "text": [
            "Best Parameter {'max_depth': 4}\n"
          ]
        },
        {
          "data": {
            "image/png": "[encoded data removed]",
            "text/plain": [
              "<Figure size 432x288 with 1 Axes>"
            ]
          },
          "metadata": {},
          "output_type": "display_data"
        }
      ],
      "source": [
        "import matplotlib.pyplot as plt\n",
        "max_depth=[1,2,3,4]\n",
        "df=pd.DataFrame.from_dict(clf.cv_results_)\n",
        "train_auc=df['mean_train_score']\n",
        "test_auc=df['mean_test_score']\n",
        "plt.grid()\n",
        "plt.plot(max_depth,train_auc,label=\"Train-Auc\")\n",
        "plt.plot(max_depth,test_auc,label=\"Test-Auc\")\n",
        "plt.legend()\n",
        "plt.title(\"Depth vs Auc\")\n",
        "print(\"Best Parameter\",clf.best_params_)\n"
      ]
    },
    {
      "cell_type": "markdown",
      "metadata": {
        "id": "kFgFBxkeYBkm"
      },
      "source": [
        "## **Model** "
      ]
    },
    {
      "cell_type": "code",
      "execution_count": 33,
      "metadata": {
        "colab": {
          "base_uri": "https://localhost:8080/",
          "height": 441
        },
        "id": "St4HC1abiezr",
        "outputId": "b7652937-f00e-477a-a95c-17263ecacad9"
      },
      "outputs": [
        {
          "output_type": "stream",
          "name": "stdout",
          "text": [
            "[06:32:00] WARNING: /workspace/src/learner.cc:686: Tree method is automatically selected to be 'approx' for faster speed. To use old behavior (exact greedy algorithm on single machine), set tree_method to 'exact'.\n"
          ]
        },
        {
          "output_type": "display_data",
          "data": {
            "text/plain": [
              "<Figure size 576x432 with 1 Axes>"
            ],
            "image/png": "[encoded data removed]"
          },
          "metadata": {
            "needs_background": "light"
          }
        }
      ],
      "source": [
        "from sklearn.metrics import roc_curve, auc\n",
        "\n",
        "model_set=xgb.XGBClassifier(max_depth=4)\n",
        "model_set.fit(x_train,y_train)\n",
        "y_train_probs = model_set.predict_proba(x_train)[:,1] # converting train and test output into probability\n",
        "y_test_probs= model_set.predict_proba(x_test)[:,1]\n",
        "train_fpr, train_tpr, tr_thresholds = roc_curve(y_train, y_train_probs) # storing values of fpr and tpr\n",
        "test_fpr, test_tpr, te_thresholds = roc_curve(y_test, y_test_probs)\n",
        "plt.figure(figsize=(8,6))\n",
        "plt.plot(train_fpr, train_tpr, label=\"Train AUC =\"+str(auc(train_fpr, train_tpr)))\n",
        "plt.plot(test_fpr, test_tpr, label=\"Test AUC =\"+str(auc(test_fpr, test_tpr)))\n",
        "plt.legend()\n",
        "plt.xlabel(\"False Positive Rate(FPR)\")\n",
        "plt.ylabel(\"True Positive Rate(TPR)\")\n",
        "plt.title(\"AUC\")\n",
        "plt.grid(color='black',lw=0.5)\n"
      ]
    },
    {
      "cell_type": "code",
      "execution_count": 45,
      "metadata": {
        "id": "onN2adhuZavB"
      },
      "outputs": [],
      "source": [
        "def find_best_threshold(threshould, fpr, tpr):\n",
        " t = threshould[np.argmax(tpr*(1-fpr))]\n",
        " print(\"the maximum value of tpr*(1-fpr)\", max(tpr*(1-fpr)), \"for threshold\", np.round(t,3))\n",
        " return t\n",
        "def predict_with_best_t(proba, threshould):\n",
        "  prediction=[]\n",
        "  for i in proba:\n",
        "    if i>=threshould:\n",
        "      prediction.append(1)\n",
        "    else:\n",
        "      prediction.append(0)\n",
        "  return prediction"
      ]
    },
    {
      "cell_type": "code",
      "execution_count": 47,
      "metadata": {
        "id": "-zCtczXMlVCS",
        "colab": {
          "base_uri": "https://localhost:8080/"
        },
        "outputId": "7955c9d7-7118-45d5-9db4-b9e983b66871"
      },
      "outputs": [
        {
          "output_type": "stream",
          "name": "stdout",
          "text": [
            "the maximum value of tpr*(1-fpr) 0.8530069023815695 for threshold 0.001\n",
            "Train confusion matrix\n",
            "[[4913885  169618]\n",
            " [    775    5818]]\n"
          ]
        }
      ],
      "source": [
        "from sklearn.metrics import confusion_matrix\n",
        "best_t = find_best_threshold(tr_thresholds, train_fpr, train_tpr)\n",
        "print(\"Train confusion matrix\")\n",
        "l=predict_with_best_t(y_train_probs, best_t)\n",
        "k=confusion_matrix(y_train,l)\n",
        "print(k)"
      ]
    },
    {
      "cell_type": "code",
      "execution_count": 48,
      "metadata": {
        "id": "ueFuuXQaZuwU",
        "colab": {
          "base_uri": "https://localhost:8080/",
          "height": 299
        },
        "outputId": "15b0c18a-e2aa-4203-e439-03846a23fa69"
      },
      "outputs": [
        {
          "output_type": "execute_result",
          "data": {
            "text/plain": [
              "<matplotlib.axes._subplots.AxesSubplot at 0x7f9e485f8bd0>"
            ]
          },
          "metadata": {},
          "execution_count": 48
        },
        {
          "output_type": "display_data",
          "data": {
            "text/plain": [
              "<Figure size 432x288 with 2 Axes>"
            ],
            "image/png": "[encoded data removed]"
          },
          "metadata": {
            "needs_background": "light"
          }
        }
      ],
      "source": [
        "import matplotlib.pyplot as plt \n",
        "import seaborn as sns\n",
        "plt.title(\"Train data \")\n",
        "sns.heatmap(k, annot=True,fmt=\"d\",cmap='Blues')"
      ]
    },
    {
      "cell_type": "code",
      "execution_count": 49,
      "metadata": {
        "id": "5ThctOBvZu9E",
        "colab": {
          "base_uri": "https://localhost:8080/"
        },
        "outputId": "98e28d4f-56e0-4b51-b1e9-197b210876ee"
      },
      "outputs": [
        {
          "output_type": "stream",
          "name": "stdout",
          "text": [
            "the maximum value of tpr*(1-fpr) 0.8512090951221811 for threshold 0.001\n",
            "Test confusion matrix\n",
            "[[1226399   44505]\n",
            " [    191    1429]]\n"
          ]
        }
      ],
      "source": [
        "best_t = find_best_threshold(te_thresholds, test_fpr, test_tpr)\n",
        "print(\"Test confusion matrix\")\n",
        "l=predict_with_best_t(y_test_probs, best_t)\n",
        "k=confusion_matrix(y_test,l)\n",
        "print(k)"
      ]
    },
    {
      "cell_type": "code",
      "source": [
        "import matplotlib.pyplot as plt \n",
        "import seaborn as sns\n",
        "plt.title(\"Test data \")\n",
        "sns.heatmap(k, annot=True,fmt=\"d\",cmap='Oranges')"
      ],
      "metadata": {
        "colab": {
          "base_uri": "https://localhost:8080/",
          "height": 299
        },
        "id": "bRwT3DdcKIGQ",
        "outputId": "9ad287b7-5c31-42c1-eee1-1f5bc1ccca3c"
      },
      "execution_count": 50,
      "outputs": [
        {
          "output_type": "execute_result",
          "data": {
            "text/plain": [
              "<matplotlib.axes._subplots.AxesSubplot at 0x7f9e40382090>"
            ]
          },
          "metadata": {},
          "execution_count": 50
        },
        {
          "output_type": "display_data",
          "data": {
            "text/plain": [
              "<Figure size 432x288 with 2 Axes>"
            ],
            "image/png": "[encoded data removed]"
          },
          "metadata": {
            "needs_background": "light"
          }
        }
      ]
    },
    {
      "cell_type": "code",
      "source": [
        ""
      ],
      "metadata": {
        "id": "roaBz2tbYRzz"
      },
      "execution_count": null,
      "outputs": []
    },
    {
      "cell_type": "markdown",
      "source": [
        "##**Observations**\n",
        "\n",
        "1.Here the accuracy is very high for both  train data and test data\n",
        "\n",
        "2.But if we check the confusion matrix we can observe that number of turely classified \"isfraud\" is very less\n",
        "\n",
        "3.As we it is an imbalaced data we can't totaly depend on this output for this we have to make the daat balance then we have check the output "
      ],
      "metadata": {
        "id": "Q8STBijabdi-"
      }
    },
    {
      "cell_type": "markdown",
      "source": [
        "## **Working with balanced Data**"
      ],
      "metadata": {
        "id": "3kZI38ThZlis"
      }
    },
    {
      "cell_type": "code",
      "source": [
        "from imblearn.under_sampling import RandomUnderSampler  \n",
        "                                                        #Doing Under sampling to make data balance\n",
        "under_sampler = RandomUnderSampler()\n",
        "X_res, y_res = under_sampler.fit_resample(data,result)"
      ],
      "metadata": {
        "id": "oIan6F2MY7DO"
      },
      "execution_count": 63,
      "outputs": []
    },
    {
      "cell_type": "code",
      "source": [
        "True_fraud=np.sum(y_res==1)\n",
        "False_fraud=np.sum(y_res==0)\n",
        "print(True_fraud)\n",
        "print(False_fraud)"
      ],
      "metadata": {
        "colab": {
          "base_uri": "https://localhost:8080/"
        },
        "id": "sCUA1y1IZGsD",
        "outputId": "d9f8dc33-958c-43aa-ab29-fce4fa6cd340"
      },
      "execution_count": 67,
      "outputs": [
        {
          "output_type": "stream",
          "name": "stdout",
          "text": [
            "8213\n",
            "8213\n"
          ]
        }
      ]
    },
    {
      "cell_type": "code",
      "source": [
        "from sklearn.model_selection import train_test_split\n",
        "x_train,x_test,y_train,y_test=train_test_split(X_res,y_res,test_size=0.20,random_state=42)"
      ],
      "metadata": {
        "id": "glVXFxaYZkim"
      },
      "execution_count": 68,
      "outputs": []
    },
    {
      "cell_type": "code",
      "source": [
        "le = preprocessing.LabelEncoder()\n",
        "le.fit(data[\"type\"])\n",
        "train_type=le.transform(x_train[\"type\"])\n",
        "test_type=le.transform(x_test[\"type\"])\n"
      ],
      "metadata": {
        "id": "B-gVeq1yZkv2"
      },
      "execution_count": 69,
      "outputs": []
    },
    {
      "cell_type": "code",
      "source": [
        "le2=preprocessing.LabelEncoder()\n",
        "le2.fit(data[\"nameOrig\"])\n",
        "train_nameOrig=le2.transform(x_train[\"nameOrig\"])\n",
        "test_nameOrig=le2.transform(x_test[\"nameOrig\"])"
      ],
      "metadata": {
        "id": "8v9DslUCZ_gr"
      },
      "execution_count": 70,
      "outputs": []
    },
    {
      "cell_type": "code",
      "source": [
        "le3=preprocessing.LabelEncoder()\n",
        "le3.fit(data[\"nameDest\"])\n",
        "train_nameDest=le3.transform(x_train[\"nameDest\"])\n",
        "test_nameDest=le3.transform(x_test[\"nameDest\"])"
      ],
      "metadata": {
        "id": "0LC213NKZ_jN"
      },
      "execution_count": 71,
      "outputs": []
    },
    {
      "cell_type": "code",
      "source": [
        "x_train.drop([\"type\",\"nameOrig\",\"nameDest\"],axis=1,inplace=True)"
      ],
      "metadata": {
        "id": "ccTXxSfEZ_la"
      },
      "execution_count": 72,
      "outputs": []
    },
    {
      "cell_type": "code",
      "source": [
        "x_train[\"type\"]=train_type\n",
        "x_train[\"nameOrig\"]=train_nameOrig\n",
        "x_train[\"nameDest\"]=train_nameDest"
      ],
      "metadata": {
        "id": "sokOxe_PZ_ny"
      },
      "execution_count": 73,
      "outputs": []
    },
    {
      "cell_type": "code",
      "source": [
        "x_test.drop([\"type\",\"nameOrig\",\"nameDest\"],axis=1,inplace=True)"
      ],
      "metadata": {
        "id": "cRHugzlFZ_pz"
      },
      "execution_count": 74,
      "outputs": []
    },
    {
      "cell_type": "code",
      "source": [
        "x_test[\"type\"]=test_type\n",
        "x_test[\"nameOrig\"]=test_nameOrig\n",
        "x_test[\"nameDest\"]=test_nameDest"
      ],
      "metadata": {
        "id": "D3F8q6gGadCV"
      },
      "execution_count": 75,
      "outputs": []
    },
    {
      "cell_type": "code",
      "source": [
        "import xgboost as xgb\n",
        "xgb_model  = xgb.XGBClassifier()"
      ],
      "metadata": {
        "id": "4cPvvJ_nadHD"
      },
      "execution_count": 76,
      "outputs": []
    },
    {
      "cell_type": "code",
      "source": [
        "from sklearn.model_selection import GridSearchCV\n",
        "parameters = {\"max_depth\":[1,2,3,4] }\n",
        "clf = GridSearchCV(xgb.XGBClassifier(), parameters, cv=3, scoring='roc_auc',return_train_score=True,n_jobs=-1)\n",
        "clf.fit(x_train,y_train)\n"
      ],
      "metadata": {
        "colab": {
          "base_uri": "https://localhost:8080/"
        },
        "id": "zveL6XM4adJa",
        "outputId": "702e224d-d5bc-48f8-fd3e-da32d5c398bf"
      },
      "execution_count": 79,
      "outputs": [
        {
          "output_type": "execute_result",
          "data": {
            "text/plain": [
              "GridSearchCV(cv=3, estimator=XGBClassifier(), n_jobs=-1,\n",
              "             param_grid={'max_depth': [1, 2, 3, 4]}, return_train_score=True,\n",
              "             scoring='roc_auc')"
            ]
          },
          "metadata": {},
          "execution_count": 79
        }
      ]
    },
    {
      "cell_type": "code",
      "source": [
        "import matplotlib.pyplot as plt\n",
        "max_depth=[1,2,3,4]\n",
        "df=pd.DataFrame.from_dict(clf.cv_results_)\n",
        "train_auc=df['mean_train_score']\n",
        "test_auc=df['mean_test_score']\n",
        "plt.grid()\n",
        "plt.plot(max_depth,train_auc,label=\"Train-Auc\")\n",
        "plt.plot(max_depth,test_auc,label=\"Test-Auc\")\n",
        "plt.legend()\n",
        "plt.title(\"Depth vs Auc\")\n",
        "print(\"Best Parameter\",clf.best_params_)\n"
      ],
      "metadata": {
        "colab": {
          "base_uri": "https://localhost:8080/",
          "height": 299
        },
        "id": "-rE2yOtWauet",
        "outputId": "3232ee0c-6dd7-4f2c-ffe0-3938958d1415"
      },
      "execution_count": 80,
      "outputs": [
        {
          "output_type": "stream",
          "name": "stdout",
          "text": [
            "Best Parameter {'max_depth': 4}\n"
          ]
        },
        {
          "output_type": "display_data",
          "data": {
            "text/plain": [
              "<Figure size 432x288 with 1 Axes>"
            ],
            "image/png": "[encoded data removed]"
          },
          "metadata": {
            "needs_background": "light"
          }
        }
      ]
    },
    {
      "cell_type": "code",
      "source": [
        "from sklearn.metrics import roc_curve, auc\n",
        "\n",
        "model_set=xgb.XGBClassifier(max_depth=4)\n",
        "model_set.fit(x_train,y_train)\n",
        "y_train_probs = model_set.predict_proba(x_train)[:,1] # converting train and test output into probability\n",
        "y_test_probs= model_set.predict_proba(x_test)[:,1]\n",
        "train_fpr, train_tpr, tr_thresholds = roc_curve(y_train, y_train_probs) # storing values of fpr and tpr\n",
        "test_fpr, test_tpr, te_thresholds = roc_curve(y_test, y_test_probs)\n",
        "plt.figure(figsize=(8,6))\n",
        "plt.plot(train_fpr, train_tpr, label=\"Train AUC =\"+str(auc(train_fpr, train_tpr)))\n",
        "plt.plot(test_fpr, test_tpr, label=\"Test AUC =\"+str(auc(test_fpr, test_tpr)))\n",
        "plt.legend()\n",
        "plt.xlabel(\"False Positive Rate(FPR)\")\n",
        "plt.ylabel(\"True Positive Rate(TPR)\")\n",
        "plt.title(\"AUC\")\n",
        "plt.grid(color='black',lw=0.5)\n"
      ],
      "metadata": {
        "colab": {
          "base_uri": "https://localhost:8080/",
          "height": 404
        },
        "id": "P2LXSwaqa2EE",
        "outputId": "2cdb6e2b-a7c7-41ea-c1d9-76c13c5ef3fc"
      },
      "execution_count": 81,
      "outputs": [
        {
          "output_type": "display_data",
          "data": {
            "text/plain": [
              "<Figure size 576x432 with 1 Axes>"
            ],
            "image/png": "[encoded data removed]"
          },
          "metadata": {
            "needs_background": "light"
          }
        }
      ]
    },
    {
      "cell_type": "code",
      "source": [
        "def find_best_threshold(threshould, fpr, tpr):\n",
        " t = threshould[np.argmax(tpr*(1-fpr))]\n",
        " print(\"the maximum value of tpr*(1-fpr)\", max(tpr*(1-fpr)), \"for threshold\", np.round(t,3))\n",
        " return t\n",
        "def predict_with_best_t(proba, threshould):\n",
        "  prediction=[]\n",
        "  for i in proba:\n",
        "    if i>=threshould:\n",
        "      prediction.append(1)\n",
        "    else:\n",
        "      prediction.append(0)\n",
        "  return prediction"
      ],
      "metadata": {
        "id": "mEs3LVHua2Gv"
      },
      "execution_count": 82,
      "outputs": []
    },
    {
      "cell_type": "code",
      "source": [
        "from sklearn.metrics import confusion_matrix\n",
        "best_t = find_best_threshold(tr_thresholds, train_fpr, train_tpr)\n",
        "print(\"Train confusion matrix\")\n",
        "l=predict_with_best_t(y_train_probs, best_t)\n",
        "k=confusion_matrix(y_train,l)\n",
        "print(k)"
      ],
      "metadata": {
        "colab": {
          "base_uri": "https://localhost:8080/"
        },
        "id": "7L9M2kRka2Jb",
        "outputId": "3e8b95f2-aee8-4b17-9458-a8c77f24dfa5"
      },
      "execution_count": 83,
      "outputs": [
        {
          "output_type": "stream",
          "name": "stdout",
          "text": [
            "the maximum value of tpr*(1-fpr) 0.8671779899503448 for threshold 0.343\n",
            "Train confusion matrix\n",
            "[[6185  379]\n",
            " [ 524 6052]]\n"
          ]
        }
      ]
    },
    {
      "cell_type": "code",
      "source": [
        "import matplotlib.pyplot as plt \n",
        "import seaborn as sns\n",
        "plt.title(\"Train data \")\n",
        "sns.heatmap(k, annot=True,fmt=\"d\",cmap='Blues')"
      ],
      "metadata": {
        "colab": {
          "base_uri": "https://localhost:8080/",
          "height": 299
        },
        "id": "7uVYXVV8bGa8",
        "outputId": "5b7cf3b1-2e54-440f-c853-41a3b81d9d93"
      },
      "execution_count": 84,
      "outputs": [
        {
          "output_type": "execute_result",
          "data": {
            "text/plain": [
              "<matplotlib.axes._subplots.AxesSubplot at 0x7f9e0c510250>"
            ]
          },
          "metadata": {},
          "execution_count": 84
        },
        {
          "output_type": "display_data",
          "data": {
            "text/plain": [
              "<Figure size 432x288 with 2 Axes>"
            ],
            "image/png": "[encoded data removed]"
          },
          "metadata": {
            "needs_background": "light"
          }
        }
      ]
    },
    {
      "cell_type": "code",
      "source": [
        "best_t = find_best_threshold(te_thresholds, test_fpr, test_tpr)\n",
        "print(\"Test confusion matrix\")\n",
        "l=predict_with_best_t(y_test_probs, best_t)\n",
        "k=confusion_matrix(y_test,l)\n",
        "print(k)"
      ],
      "metadata": {
        "colab": {
          "base_uri": "https://localhost:8080/"
        },
        "id": "7CPt4n5-bLM7",
        "outputId": "3d3fb17e-6332-4d23-a25a-a0f145a7fa9d"
      },
      "execution_count": 85,
      "outputs": [
        {
          "output_type": "stream",
          "name": "stdout",
          "text": [
            "the maximum value of tpr*(1-fpr) 0.871845101138655 for threshold 0.494\n",
            "Test confusion matrix\n",
            "[[1601   48]\n",
            " [ 167 1470]]\n"
          ]
        }
      ]
    },
    {
      "cell_type": "code",
      "source": [
        "import matplotlib.pyplot as plt \n",
        "import seaborn as sns\n",
        "plt.title(\"Test data \")\n",
        "sns.heatmap(k, annot=True,fmt=\"d\",cmap='Oranges')"
      ],
      "metadata": {
        "colab": {
          "base_uri": "https://localhost:8080/",
          "height": 299
        },
        "id": "GMz4gwIdbLSU",
        "outputId": "4350d088-e5fe-4384-fa7e-7ad4447461a9"
      },
      "execution_count": 86,
      "outputs": [
        {
          "output_type": "execute_result",
          "data": {
            "text/plain": [
              "<matplotlib.axes._subplots.AxesSubplot at 0x7f9e055cad90>"
            ]
          },
          "metadata": {},
          "execution_count": 86
        },
        {
          "output_type": "display_data",
          "data": {
            "text/plain": [
              "<Figure size 432x288 with 2 Axes>"
            ],
            "image/png": "[encoded data removed]"
          },
          "metadata": {
            "needs_background": "light"
          }
        }
      ]
    },
    {
      "cell_type": "code",
      "source": [
        ""
      ],
      "metadata": {
        "id": "n52wUd57cKhE"
      },
      "execution_count": null,
      "outputs": []
    },
    {
      "cell_type": "markdown",
      "source": [
        "## **Observations**\n",
        "\n",
        "1.Here accuracy is very high\n",
        "\n",
        "2.here from confusion matrix we can conclude that has very good value in Truepositive and TrueNegetive.\n",
        "\n",
        "3.as it is a balanced data we can say that it will work well in unseen data\n",
        "\n",
        "4.For prevention we should look into the FN values like if it is very high then we have add some other system the work on"
      ],
      "metadata": {
        "id": "kibzSLz0cKxM"
      }
    },
    {
      "cell_type": "code",
      "source": [
        ""
      ],
      "metadata": {
        "id": "bRpgfCd1egCl"
      },
      "execution_count": null,
      "outputs": []
    }
  ],
  "metadata": {
    "accelerator": "GPU",
    "colab": {
      "collapsed_sections": [],
      "machine_shape": "hm",
      "name": "Fraud_Detection.ipynb",
      "provenance": []
    },
    "kernelspec": {
      "display_name": "Python 3",
      "name": "python3"
    },
    "language_info": {
      "name": "python"
    }
  },
  "nbformat": 4,
  "nbformat_minor": 0
}